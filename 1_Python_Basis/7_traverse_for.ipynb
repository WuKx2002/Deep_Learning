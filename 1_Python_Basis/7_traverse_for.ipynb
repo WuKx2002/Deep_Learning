{
 "cells": [
  {
   "cell_type": "code",
   "execution_count": 3,
   "metadata": {},
   "outputs": [
    {
     "name": "stdout",
     "output_type": "stream",
     "text": [
      "x\n",
      "hello\n",
      "y\n",
      "hello\n",
      "z\n",
      "hello\n",
      "world\n"
     ]
    }
   ],
   "source": [
    "a = ['x', 'y', 'z']\n",
    "for i in a:\n",
    "    print(i)\n",
    "    print(\"hello\")\n",
    "print(\"world\")"
   ]
  },
  {
   "cell_type": "code",
   "execution_count": 5,
   "metadata": {},
   "outputs": [
    {
     "name": "stdout",
     "output_type": "stream",
     "text": [
      "1\n",
      "2\n",
      "3\n"
     ]
    }
   ],
   "source": [
    "b = {1:'123', 2:'456', 3:'789'} \n",
    "for j in b:  #遍历实际上是遍历key键\n",
    "    print (j)"
   ]
  },
  {
   "cell_type": "code",
   "execution_count": 9,
   "metadata": {},
   "outputs": [
    {
     "name": "stdout",
     "output_type": "stream",
     "text": [
      "123\n",
      "456\n",
      "789\n"
     ]
    }
   ],
   "source": [
    "b = {1:'123', 2:'456', 3:'789'} \n",
    "for k in b.values(): #遍历值\n",
    "    print(k)"
   ]
  },
  {
   "cell_type": "code",
   "execution_count": 8,
   "metadata": {},
   "outputs": [
    {
     "name": "stdout",
     "output_type": "stream",
     "text": [
      "key =  1 value =  123\n",
      "key =  2 value =  456\n",
      "key =  3 value =  789\n"
     ]
    }
   ],
   "source": [
    "b = {1:'123', 2:'456', 3:'789'} \n",
    "for m, n in b.items():\n",
    "    print(\"key = \", m, \"value = \", n )\n",
    "    \n",
    "    "
   ]
  },
  {
   "cell_type": "code",
   "execution_count": 13,
   "metadata": {},
   "outputs": [
    {
     "name": "stdout",
     "output_type": "stream",
     "text": [
      "John\n",
      "This is a book\n",
      "Rose\n",
      "Mike\n"
     ]
    }
   ],
   "source": [
    "c = {'This is a book', 'Mike', 'Rose', 'John'}  #哈希结构存储\n",
    "for l in c:\n",
    "    print(l)"
   ]
  },
  {
   "cell_type": "code",
   "execution_count": 12,
   "metadata": {},
   "outputs": [
    {
     "name": "stdout",
     "output_type": "stream",
     "text": [
      "id =  0 value =  John\n",
      "id =  1 value =  This is a book\n",
      "id =  2 value =  Rose\n",
      "id =  3 value =  Mike\n"
     ]
    }
   ],
   "source": [
    "c = {'This is a book', 'Mike', 'Rose', 'John'}\n",
    "for p, q in enumerate(c):  #enumerate:表示遍历元素的同时还可以同时遍历索引号\n",
    "    print(\"id = \", p, \"value = \", q)"
   ]
  },
  {
   "cell_type": "code",
   "execution_count": 18,
   "metadata": {},
   "outputs": [
    {
     "name": "stdout",
     "output_type": "stream",
     "text": [
      "id =  0 ley =  1 value =  123\n",
      "id =  1 ley =  2 value =  456\n",
      "id =  2 ley =  3 value =  789\n"
     ]
    }
   ],
   "source": [
    "c = {'This is a book', 'Mike', 'Rose', 'John'}\n",
    "for r, (p, q) in enumerate(b.items()):  #enumerate:表示遍历元素的同时还可以同时遍历索引号\n",
    "    print(\"id = \", r, \"ley = \", p, \"value = \", q)"
   ]
  },
  {
   "cell_type": "code",
   "execution_count": null,
   "metadata": {},
   "outputs": [],
   "source": []
  }
 ],
 "metadata": {
  "kernelspec": {
   "display_name": "Python 3",
   "language": "python",
   "name": "python3"
  },
  "language_info": {
   "codemirror_mode": {
    "name": "ipython",
    "version": 3
   },
   "file_extension": ".py",
   "mimetype": "text/x-python",
   "name": "python",
   "nbconvert_exporter": "python",
   "pygments_lexer": "ipython3",
   "version": "3.7.0"
  }
 },
 "nbformat": 4,
 "nbformat_minor": 2
}
