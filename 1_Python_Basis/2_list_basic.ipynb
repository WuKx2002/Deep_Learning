{
 "cells": [
  {
   "cell_type": "markdown",
   "metadata": {},
   "source": [
    "查找列表内容对应的索引"
   ]
  },
  {
   "cell_type": "code",
   "execution_count": 17,
   "metadata": {},
   "outputs": [
    {
     "name": "stdout",
     "output_type": "stream",
     "text": [
      "4\n",
      "3\n"
     ]
    }
   ],
   "source": [
    "a = [0, 2, 2, 1, 5, 2]\n",
    "print(a.index(5))  #index()里面的的参数表示想要寻找的列表元素，a.index()得到参数第一次出现时的索引\n",
    "print(a.count(2))  #count(2)用于统计参数在列表中出现的次数"
   ]
  },
  {
   "cell_type": "code",
   "execution_count": 18,
   "metadata": {},
   "outputs": [
    {
     "name": "stdout",
     "output_type": "stream",
     "text": [
      "[2, 5, 1, 2, 2, 0]\n",
      "[2, 5, 1, 2, 2, 0]\n"
     ]
    }
   ],
   "source": [
    "a = [0, 2, 2, 1, 5, 2]\n",
    "b = a[::-1]\n",
    "print(b)\n",
    "a.reverse()\n",
    "print(a)"
   ]
  },
  {
   "cell_type": "code",
   "execution_count": null,
   "metadata": {},
   "outputs": [],
   "source": []
  }
 ],
 "metadata": {
  "kernelspec": {
   "display_name": "Python 3",
   "language": "python",
   "name": "python3"
  },
  "language_info": {
   "codemirror_mode": {
    "name": "ipython",
    "version": 3
   },
   "file_extension": ".py",
   "mimetype": "text/x-python",
   "name": "python",
   "nbconvert_exporter": "python",
   "pygments_lexer": "ipython3",
   "version": "3.7.0"
  }
 },
 "nbformat": 4,
 "nbformat_minor": 2
}
