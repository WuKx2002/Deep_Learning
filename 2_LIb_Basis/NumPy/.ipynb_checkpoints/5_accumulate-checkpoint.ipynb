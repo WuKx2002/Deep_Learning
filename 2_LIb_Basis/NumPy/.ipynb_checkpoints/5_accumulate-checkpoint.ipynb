{
 "cells": [
  {
   "cell_type": "code",
   "execution_count": 1,
   "metadata": {},
   "outputs": [],
   "source": [
    "import numpy as np"
   ]
  },
  {
   "cell_type": "code",
   "execution_count": 2,
   "metadata": {},
   "outputs": [
    {
     "name": "stdout",
     "output_type": "stream",
     "text": [
      "[0.35580015 0.75260855 0.17791578 0.21692961 0.36743674]\n",
      "[[0.79278615 0.66231991 0.442278   0.7645449 ]\n",
      " [0.16172978 0.65295858 0.93617003 0.25185703]]\n"
     ]
    }
   ],
   "source": [
    "a = np.random.random(size = 5)\n",
    "b = np.random.random(size = (2, 4))\n",
    "print(a)\n",
    "print(b)"
   ]
  },
  {
   "cell_type": "code",
   "execution_count": 5,
   "metadata": {},
   "outputs": [
    {
     "name": "stdout",
     "output_type": "stream",
     "text": [
      "[0.35580015 0.75260855 0.75260855 0.75260855 0.75260855]\n"
     ]
    }
   ],
   "source": [
    "print(np.maximum.accumulate(a))  #accumlate作用是求累计最大值和最小值"
   ]
  },
  {
   "cell_type": "code",
   "execution_count": 6,
   "metadata": {},
   "outputs": [
    {
     "name": "stdout",
     "output_type": "stream",
     "text": [
      "[0.35580015 0.35580015 0.17791578 0.17791578 0.17791578]\n"
     ]
    }
   ],
   "source": [
    "print(np.minimum.accumulate(a))  #accumlate作用是求累计最大值和最小值"
   ]
  },
  {
   "cell_type": "code",
   "execution_count": 8,
   "metadata": {},
   "outputs": [
    {
     "name": "stdout",
     "output_type": "stream",
     "text": [
      "[[0.79278615 0.79278615 0.79278615 0.79278615]\n",
      " [0.16172978 0.65295858 0.93617003 0.93617003]]\n"
     ]
    }
   ],
   "source": [
    "print(np.maximum.accumulate(b, axis = 1)) "
   ]
  },
  {
   "cell_type": "code",
   "execution_count": 9,
   "metadata": {},
   "outputs": [
    {
     "name": "stdout",
     "output_type": "stream",
     "text": [
      "[[0.79278615 0.66231991 0.442278   0.442278  ]\n",
      " [0.16172978 0.16172978 0.16172978 0.16172978]]\n"
     ]
    }
   ],
   "source": [
    "print(np.minimum.accumulate(b, axis = 1)) "
   ]
  },
  {
   "cell_type": "code",
   "execution_count": null,
   "metadata": {},
   "outputs": [],
   "source": []
  }
 ],
 "metadata": {
  "kernelspec": {
   "display_name": "Python 3",
   "language": "python",
   "name": "python3"
  },
  "language_info": {
   "codemirror_mode": {
    "name": "ipython",
    "version": 3
   },
   "file_extension": ".py",
   "mimetype": "text/x-python",
   "name": "python",
   "nbconvert_exporter": "python",
   "pygments_lexer": "ipython3",
   "version": "3.7.0"
  }
 },
 "nbformat": 4,
 "nbformat_minor": 2
}
