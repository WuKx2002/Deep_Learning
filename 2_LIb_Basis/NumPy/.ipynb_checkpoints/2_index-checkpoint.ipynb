{
 "cells": [
  {
   "cell_type": "code",
   "execution_count": 1,
   "metadata": {},
   "outputs": [],
   "source": [
    "import numpy as np"
   ]
  },
  {
   "cell_type": "code",
   "execution_count": 2,
   "metadata": {},
   "outputs": [
    {
     "name": "stdout",
     "output_type": "stream",
     "text": [
      "[[ 0  1  2  3]\n",
      " [ 4  5  6  7]\n",
      " [ 8  9 10 11]]\n"
     ]
    }
   ],
   "source": [
    "a = np.arange(12).reshape(3, 4)\n",
    "print(a)"
   ]
  },
  {
   "cell_type": "code",
   "execution_count": 3,
   "metadata": {},
   "outputs": [
    {
     "name": "stdout",
     "output_type": "stream",
     "text": [
      "[[ 4  5  6  7]\n",
      " [ 8  9 10 11]]\n"
     ]
    }
   ],
   "source": [
    "print(a[1:3, :])#,前面的部分用于检索行，逗号后面的部分用于检索列，相当于图片裁剪"
   ]
  },
  {
   "cell_type": "code",
   "execution_count": 4,
   "metadata": {},
   "outputs": [
    {
     "name": "stdout",
     "output_type": "stream",
     "text": [
      "[0 1 2 3]\n"
     ]
    }
   ],
   "source": [
    "print(a[0, :])   #取出第0行的全部内容"
   ]
  },
  {
   "cell_type": "code",
   "execution_count": 5,
   "metadata": {},
   "outputs": [
    {
     "name": "stdout",
     "output_type": "stream",
     "text": [
      "[1 5 9]\n"
     ]
    }
   ],
   "source": [
    "print(a[:, 1])   #取出第一列"
   ]
  },
  {
   "cell_type": "code",
   "execution_count": 6,
   "metadata": {},
   "outputs": [
    {
     "name": "stdout",
     "output_type": "stream",
     "text": [
      "[[0 2]\n",
      " [4 6]]\n"
     ]
    }
   ],
   "source": [
    "print(a[:2, ::2,])  #取出第零行和第一行的偶数列，相当于图片压缩"
   ]
  },
  {
   "cell_type": "code",
   "execution_count": 7,
   "metadata": {},
   "outputs": [
    {
     "name": "stdout",
     "output_type": "stream",
     "text": [
      "[[ 4  6]\n",
      " [ 8 10]]\n"
     ]
    }
   ],
   "source": [
    "print(a[1:3,::2])  #取出第一行和第二行的偶数列，相当于图片压缩"
   ]
  },
  {
   "cell_type": "code",
   "execution_count": 8,
   "metadata": {},
   "outputs": [
    {
     "name": "stdout",
     "output_type": "stream",
     "text": [
      "[[ 3  2  1  0]\n",
      " [ 7  6  5  4]\n",
      " [11 10  9  8]]\n"
     ]
    }
   ],
   "source": [
    "print(a[:, ::-1])  #反序打印数组，相当于图片左右翻转"
   ]
  },
  {
   "cell_type": "code",
   "execution_count": 9,
   "metadata": {},
   "outputs": [
    {
     "name": "stdout",
     "output_type": "stream",
     "text": [
      "[[-18 -17 -16 -15 -14 -13]\n",
      " [-12 -11 -10  -9  -8  -7]\n",
      " [ -6  -5  -4  -3  -2  -1]\n",
      " [  0   1   2   3   4   5]\n",
      " [  6   7   8   9  10  11]\n",
      " [ 12  13  14  15  16  17]]\n"
     ]
    }
   ],
   "source": [
    "a = np.arange(36).reshape(6, 6) - 18\n",
    "print(a)"
   ]
  },
  {
   "cell_type": "code",
   "execution_count": 10,
   "metadata": {},
   "outputs": [
    {
     "name": "stdout",
     "output_type": "stream",
     "text": [
      "[[-18. -17. -16. -15. -14. -13.]\n",
      " [-12. -11. -10.  -9.  -8.  -7.]\n",
      " [ -6.  -5.  -4.  -3.  -2.  -1.]\n",
      " [  0.   1.   2.   3.   4.   5.]\n",
      " [  6.   7.   8.   9.  10.  11.]\n",
      " [ 12.  13.  14.  15.  16.  17.]]\n"
     ]
    }
   ],
   "source": [
    "a = a.astype(float)\n",
    "print(a)"
   ]
  },
  {
   "cell_type": "code",
   "execution_count": 11,
   "metadata": {},
   "outputs": [],
   "source": [
    "#小于0取绝对值，大于0取对数"
   ]
  },
  {
   "cell_type": "code",
   "execution_count": 12,
   "metadata": {},
   "outputs": [
    {
     "name": "stdout",
     "output_type": "stream",
     "text": [
      "[[18.         17.         16.         15.         14.         13.        ]\n",
      " [12.         11.         10.          9.          8.          7.        ]\n",
      " [ 6.          5.          4.          3.          2.          1.        ]\n",
      " [ 0.          0.          0.69314718  1.09861229  1.38629436  1.60943791]\n",
      " [ 1.79175947  1.94591015  2.07944154  2.19722458  2.30258509  2.39789527]\n",
      " [ 2.48490665  2.56494936  2.63905733  2.7080502   2.77258872  2.83321334]]\n"
     ]
    }
   ],
   "source": [
    "for i in range(6):\n",
    "    for j in range(6):\n",
    "        if a[i][j] > 0:\n",
    "            a[i][j] = np.log(a[i][j])\n",
    "        elif a[i][j] < 0:\n",
    "            a[i][j] = np.abs(a[i][j])\n",
    "print(a)"
   ]
  },
  {
   "cell_type": "code",
   "execution_count": 13,
   "metadata": {},
   "outputs": [
    {
     "name": "stdout",
     "output_type": "stream",
     "text": [
      "[[-18. -17. -16. -15. -14. -13.]\n",
      " [-12. -11. -10.  -9.  -8.  -7.]\n",
      " [ -6.  -5.  -4.  -3.  -2.  -1.]\n",
      " [  0.   1.   2.   3.   4.   5.]\n",
      " [  6.   7.   8.   9.  10.  11.]\n",
      " [ 12.  13.  14.  15.  16.  17.]]\n"
     ]
    }
   ],
   "source": [
    "a = np.arange(36).reshape(6, 6) - 18\n",
    "a = a.astype(float)\n",
    "print(a)"
   ]
  },
  {
   "cell_type": "code",
   "execution_count": 14,
   "metadata": {},
   "outputs": [
    {
     "name": "stdout",
     "output_type": "stream",
     "text": [
      "[[18.         17.         16.         15.         14.         13.        ]\n",
      " [12.         11.         10.          9.          8.          7.        ]\n",
      " [ 6.          5.          4.          3.          2.          1.        ]\n",
      " [ 0.          0.          0.69314718  1.09861229  1.38629436  1.60943791]\n",
      " [ 1.79175947  1.94591015  2.07944154  2.19722458  2.30258509  2.39789527]\n",
      " [ 2.48490665  2.56494936  2.63905733  2.7080502   2.77258872  2.83321334]]\n"
     ]
    }
   ],
   "source": [
    "a[a > 0] = np.log(a[a > 0])  #a[a > 0]表明选中数组a中所有元素大于0的部分\n",
    "a[a < 0] = np.abs(a[a < 0])\n",
    "print(a)\n",
    "#这段代码很python"
   ]
  },
  {
   "cell_type": "code",
   "execution_count": null,
   "metadata": {},
   "outputs": [],
   "source": []
  }
 ],
 "metadata": {
  "kernelspec": {
   "display_name": "Python 3",
   "language": "python",
   "name": "python3"
  },
  "language_info": {
   "codemirror_mode": {
    "name": "ipython",
    "version": 3
   },
   "file_extension": ".py",
   "mimetype": "text/x-python",
   "name": "python",
   "nbconvert_exporter": "python",
   "pygments_lexer": "ipython3",
   "version": "3.7.0"
  }
 },
 "nbformat": 4,
 "nbformat_minor": 2
}
