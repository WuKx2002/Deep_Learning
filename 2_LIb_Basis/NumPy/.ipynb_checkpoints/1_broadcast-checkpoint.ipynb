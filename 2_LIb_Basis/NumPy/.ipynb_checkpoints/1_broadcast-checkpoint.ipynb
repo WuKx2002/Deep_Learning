{
 "cells": [
  {
   "cell_type": "code",
   "execution_count": 1,
   "metadata": {},
   "outputs": [],
   "source": [
    "import numpy as np  #导入numpy数学库 并起别名np"
   ]
  },
  {
   "cell_type": "code",
   "execution_count": 3,
   "metadata": {},
   "outputs": [
    {
     "name": "stdout",
     "output_type": "stream",
     "text": [
      "[[1 1 1 1]\n",
      " [1 1 1 1]]\n"
     ]
    }
   ],
   "source": [
    "one = np.ones(shape = (2, 4), dtype = int)  #创建一个两行四列的数组，元素都是int类型，值都为1\n",
    "print(one)"
   ]
  },
  {
   "cell_type": "code",
   "execution_count": 6,
   "metadata": {},
   "outputs": [
    {
     "name": "stdout",
     "output_type": "stream",
     "text": [
      "[[6 6 6 6]\n",
      " [6 6 6 6]]\n",
      "[[4 4 4 4]\n",
      " [4 4 4 4]]\n",
      "[[10. 10. 10. 10.]\n",
      " [10. 10. 10. 10.]]\n",
      "[[1. 1. 1. 1.]\n",
      " [1. 1. 1. 1.]]\n"
     ]
    }
   ],
   "source": [
    "six = one + 5      #加法广播，将数组里的所有元素都增加\n",
    "print(six)\n",
    "four = six - 2     #减法广播\n",
    "print(four)\n",
    "ten = four * 2.5   #乘法广播\n",
    "print(ten)\n",
    "one = ten / 10     #除法广播\n",
    "print(one)"
   ]
  },
  {
   "cell_type": "code",
   "execution_count": 8,
   "metadata": {},
   "outputs": [
    {
     "name": "stdout",
     "output_type": "stream",
     "text": [
      "[[[ 0  1  2  3]\n",
      "  [ 4  5  6  7]\n",
      "  [ 8  9 10 11]]\n",
      "\n",
      " [[12 13 14 15]\n",
      "  [16 17 18 19]\n",
      "  [20 21 22 23]]]\n"
     ]
    }
   ],
   "source": [
    "#产生一个3维的数组，（2，3, 4）理解为两个平面，每个平面都是三行四列\n",
    "a = np.arange(24).reshape(2, 3, 4)  #arange(24)表示产生24个整数，范围是0~23\n",
    "print(a)"
   ]
  },
  {
   "cell_type": "code",
   "execution_count": 9,
   "metadata": {},
   "outputs": [
    {
     "name": "stdout",
     "output_type": "stream",
     "text": [
      "[[ 0  1  2  3]\n",
      " [ 4  5  6  7]\n",
      " [ 8  9 10 11]]\n"
     ]
    }
   ],
   "source": [
    "print(a[0])"
   ]
  },
  {
   "cell_type": "code",
   "execution_count": 10,
   "metadata": {},
   "outputs": [
    {
     "name": "stdout",
     "output_type": "stream",
     "text": [
      "[[12 13 14 15]\n",
      " [16 17 18 19]\n",
      " [20 21 22 23]]\n"
     ]
    }
   ],
   "source": [
    "print(a[1])"
   ]
  },
  {
   "cell_type": "code",
   "execution_count": 11,
   "metadata": {},
   "outputs": [
    {
     "name": "stdout",
     "output_type": "stream",
     "text": [
      "(2, 3, 4)\n"
     ]
    }
   ],
   "source": [
    "print(a.shape)"
   ]
  },
  {
   "cell_type": "code",
   "execution_count": 13,
   "metadata": {},
   "outputs": [
    {
     "name": "stdout",
     "output_type": "stream",
     "text": [
      "[[0.81051438 0.94781441 0.62536937 0.6377834 ]\n",
      " [0.13646632 0.19137897 0.49705719 0.14457741]\n",
      " [0.29843287 0.39051961 0.20158202 0.0642196 ]]\n"
     ]
    }
   ],
   "source": [
    "weight = np.random.random(size = (3, 4))  #np库中的random模块中的random方法，用于产生随机的浮点数，且取值范围是0.0~1.0\n",
    "print(weight)"
   ]
  },
  {
   "cell_type": "code",
   "execution_count": 15,
   "metadata": {},
   "outputs": [
    {
     "name": "stdout",
     "output_type": "stream",
     "text": [
      "[[[ 0.          0.94781441  1.25073874  1.91335019]\n",
      "  [ 0.54586527  0.95689487  2.98234317  1.01204189]\n",
      "  [ 2.38746297  3.51467652  2.01582022  0.70641562]]\n",
      "\n",
      " [[ 9.72617262 12.32158733  8.75517117  9.56675097]\n",
      "  [ 2.18346107  3.25344257  8.94702951  2.74697083]\n",
      "  [ 5.96865742  8.20091188  4.43480449  1.47705084]]]\n"
     ]
    }
   ],
   "source": [
    "weight_a = a * weight\n",
    "print(weight_a)"
   ]
  },
  {
   "cell_type": "code",
   "execution_count": null,
   "metadata": {},
   "outputs": [],
   "source": []
  }
 ],
 "metadata": {
  "kernelspec": {
   "display_name": "Python 3",
   "language": "python",
   "name": "python3"
  },
  "language_info": {
   "codemirror_mode": {
    "name": "ipython",
    "version": 3
   },
   "file_extension": ".py",
   "mimetype": "text/x-python",
   "name": "python",
   "nbconvert_exporter": "python",
   "pygments_lexer": "ipython3",
   "version": "3.7.0"
  }
 },
 "nbformat": 4,
 "nbformat_minor": 2
}
