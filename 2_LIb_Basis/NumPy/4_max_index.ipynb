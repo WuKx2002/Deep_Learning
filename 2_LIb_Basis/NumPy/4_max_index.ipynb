{
 "cells": [
  {
   "cell_type": "code",
   "execution_count": 1,
   "metadata": {},
   "outputs": [],
   "source": [
    "import numpy as np"
   ]
  },
  {
   "cell_type": "code",
   "execution_count": 2,
   "metadata": {},
   "outputs": [
    {
     "name": "stdout",
     "output_type": "stream",
     "text": [
      "[0.71597095 0.89082593 0.19437972 0.53781062]\n"
     ]
    }
   ],
   "source": [
    "a = np.random.random(size = (4))\n",
    "print(a)"
   ]
  },
  {
   "cell_type": "code",
   "execution_count": 3,
   "metadata": {},
   "outputs": [
    {
     "name": "stdout",
     "output_type": "stream",
     "text": [
      "0.8908259271369893\n"
     ]
    }
   ],
   "source": [
    "max = np.max(a)  #找到最大值\n",
    "print(max) "
   ]
  },
  {
   "cell_type": "code",
   "execution_count": 4,
   "metadata": {},
   "outputs": [
    {
     "name": "stdout",
     "output_type": "stream",
     "text": [
      "1\n"
     ]
    }
   ],
   "source": [
    "index = np.argmax(a)  #找到最大值所对应的索引号\n",
    "print(index)"
   ]
  },
  {
   "cell_type": "code",
   "execution_count": 8,
   "metadata": {},
   "outputs": [
    {
     "name": "stdout",
     "output_type": "stream",
     "text": [
      "[[0.03694387 0.17913996 0.76116334 0.44007008]\n",
      " [0.48021436 0.16118654 0.21434018 0.44170269]\n",
      " [0.63382755 0.49156326 0.96541545 0.36135629]\n",
      " [0.97357847 0.29048078 0.49740464 0.02075722]]\n"
     ]
    }
   ],
   "source": [
    "a= np.random.random(size = (4, 4))\n",
    "print(a)"
   ]
  },
  {
   "cell_type": "code",
   "execution_count": 9,
   "metadata": {},
   "outputs": [
    {
     "name": "stdout",
     "output_type": "stream",
     "text": [
      "[0.76116334 0.48021436 0.96541545 0.97357847]\n",
      "[0.97357847 0.49156326 0.96541545 0.44170269]\n"
     ]
    }
   ],
   "source": [
    "max_row = np.max(a, axis = 1)  #求解每一行的最大值\n",
    "print(max_row)\n",
    "max_col = np.max(a, axis = 0)  ##求解每一列的最大值\n",
    "print(max_col)"
   ]
  },
  {
   "cell_type": "code",
   "execution_count": 10,
   "metadata": {},
   "outputs": [
    {
     "name": "stdout",
     "output_type": "stream",
     "text": [
      "0.9735784670676645\n"
     ]
    }
   ],
   "source": [
    "max = np.max(a)\n",
    "print(max)"
   ]
  },
  {
   "cell_type": "code",
   "execution_count": 12,
   "metadata": {},
   "outputs": [
    {
     "name": "stdout",
     "output_type": "stream",
     "text": [
      "0.9735784670676645\n"
     ]
    }
   ],
   "source": [
    "max = np.max(a, axis = (0, 1))\n",
    "print(max)"
   ]
  },
  {
   "cell_type": "code",
   "execution_count": null,
   "metadata": {},
   "outputs": [],
   "source": []
  }
 ],
 "metadata": {
  "kernelspec": {
   "display_name": "Python 3",
   "language": "python",
   "name": "python3"
  },
  "language_info": {
   "codemirror_mode": {
    "name": "ipython",
    "version": 3
   },
   "file_extension": ".py",
   "mimetype": "text/x-python",
   "name": "python",
   "nbconvert_exporter": "python",
   "pygments_lexer": "ipython3",
   "version": "3.7.0"
  }
 },
 "nbformat": 4,
 "nbformat_minor": 2
}
