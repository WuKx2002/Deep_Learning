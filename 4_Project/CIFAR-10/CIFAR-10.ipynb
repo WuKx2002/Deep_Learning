{
 "cells": [
  {
   "cell_type": "code",
   "execution_count": 1,
   "id": "f670432a-7ce4-4afc-a7f6-dbf2e1f9d0cf",
   "metadata": {},
   "outputs": [
    {
     "name": "stderr",
     "output_type": "stream",
     "text": [
      "2022-05-05 09:27:00.982197: I tensorflow/stream_executor/platform/default/dso_loader.cc:53] Successfully opened dynamic library libcudart.so.11.0\n"
     ]
    }
   ],
   "source": [
    "from keras.datasets import cifar10"
   ]
  },
  {
   "cell_type": "code",
   "execution_count": 2,
   "id": "24464a71-dc16-409a-b045-d8530fdb0794",
   "metadata": {},
   "outputs": [],
   "source": [
    "(train_image, train_label), (test_image, test_label) = cifar10.load_data()"
   ]
  },
  {
   "cell_type": "code",
   "execution_count": 3,
   "id": "ef7ccac1-613c-456f-ad27-6dd924f2edc6",
   "metadata": {},
   "outputs": [
    {
     "name": "stdout",
     "output_type": "stream",
     "text": [
      "train :  50000\n",
      "test :  10000\n"
     ]
    }
   ],
   "source": [
    "print('train : ', len(train_image))\n",
    "print('test : ', len(test_image))"
   ]
  },
  {
   "cell_type": "code",
   "execution_count": 4,
   "id": "3d3c7362-b688-4312-82dc-265eb9e3e96f",
   "metadata": {},
   "outputs": [
    {
     "name": "stdout",
     "output_type": "stream",
     "text": [
      "(50000, 32, 32, 3)\n"
     ]
    }
   ],
   "source": [
    "print(train_image.shape)"
   ]
  },
  {
   "cell_type": "code",
   "execution_count": 5,
   "id": "71bd90f7-54e8-4f5e-871c-a5c0ef6c9c81",
   "metadata": {},
   "outputs": [],
   "source": [
    "import matplotlib.pyplot as plt\n",
    "def show_image(image):\n",
    "    plt.imshow(image)\n",
    "    plt.show()"
   ]
  },
  {
   "cell_type": "code",
   "execution_count": 6,
   "id": "f35aac3e-5048-4c4a-b1ee-ec33295c7e57",
   "metadata": {},
   "outputs": [
    {
     "data": {
      "image/png": "[encoded data removed]",
      "text/plain": [
       "<Figure size 432x288 with 1 Axes>"
      ]
     },
     "metadata": {
      "needs_background": "light"
     },
     "output_type": "display_data"
    }
   ],
   "source": [
    "show_image(train_image[0])"
   ]
  },
  {
   "cell_type": "code",
   "execution_count": 7,
   "id": "06c0d527-0e27-4542-ab39-ddb16af0629e",
   "metadata": {},
   "outputs": [
    {
     "name": "stdout",
     "output_type": "stream",
     "text": [
      "[[[ 59  62  63]\n",
      "  [ 43  46  45]\n",
      "  [ 50  48  43]\n",
      "  ...\n",
      "  [158 132 108]\n",
      "  [152 125 102]\n",
      "  [148 124 103]]\n",
      "\n",
      " [[ 16  20  20]\n",
      "  [  0   0   0]\n",
      "  [ 18   8   0]\n",
      "  ...\n",
      "  [123  88  55]\n",
      "  [119  83  50]\n",
      "  [122  87  57]]\n",
      "\n",
      " [[ 25  24  21]\n",
      "  [ 16   7   0]\n",
      "  [ 49  27   8]\n",
      "  ...\n",
      "  [118  84  50]\n",
      "  [120  84  50]\n",
      "  [109  73  42]]\n",
      "\n",
      " ...\n",
      "\n",
      " [[208 170  96]\n",
      "  [201 153  34]\n",
      "  [198 161  26]\n",
      "  ...\n",
      "  [160 133  70]\n",
      "  [ 56  31   7]\n",
      "  [ 53  34  20]]\n",
      "\n",
      " [[180 139  96]\n",
      "  [173 123  42]\n",
      "  [186 144  30]\n",
      "  ...\n",
      "  [184 148  94]\n",
      "  [ 97  62  34]\n",
      "  [ 83  53  34]]\n",
      "\n",
      " [[177 144 116]\n",
      "  [168 129  94]\n",
      "  [179 142  87]\n",
      "  ...\n",
      "  [216 184 140]\n",
      "  [151 118  84]\n",
      "  [123  92  72]]]\n"
     ]
    }
   ],
   "source": [
    "print(train_image[0])"
   ]
  },
  {
   "cell_type": "code",
   "execution_count": 8,
   "id": "8017f6ec-9a11-477f-ba6c-8752d6685a68",
   "metadata": {},
   "outputs": [
    {
     "name": "stdout",
     "output_type": "stream",
     "text": [
      "[59 62 63]\n"
     ]
    }
   ],
   "source": [
    "print(train_image[0][0][0])"
   ]
  },
  {
   "cell_type": "code",
   "execution_count": 9,
   "id": "12f4cd41-f9ec-4bb4-aacc-43f99decef1e",
   "metadata": {},
   "outputs": [
    {
     "name": "stdout",
     "output_type": "stream",
     "text": [
      "[6]\n"
     ]
    }
   ],
   "source": [
    "print(train_label[0])"
   ]
  },
  {
   "cell_type": "code",
   "execution_count": 10,
   "id": "e321c301-0eda-45c7-bd49-b8366b509443",
   "metadata": {},
   "outputs": [],
   "source": [
    "train_image_normalize = train_image.reshape(50000, 32, 32, 3) / 255\n",
    "test_image_normalize = test_image.reshape(10000, 32, 32, 3) / 255"
   ]
  },
  {
   "cell_type": "code",
   "execution_count": 11,
   "id": "4ebd63ab-10fd-451d-906e-f401124c9fd0",
   "metadata": {},
   "outputs": [
    {
     "name": "stdout",
     "output_type": "stream",
     "text": [
      "[0.23137255 0.24313725 0.24705882]\n"
     ]
    }
   ],
   "source": [
    "print(train_image_normalize[0][0][0])"
   ]
  },
  {
   "cell_type": "code",
   "execution_count": 12,
   "id": "eb5f1298-a6d9-43ec-b804-ac02b787b774",
   "metadata": {},
   "outputs": [
    {
     "name": "stdout",
     "output_type": "stream",
     "text": [
      "[[6]\n",
      " [9]\n",
      " [9]]\n"
     ]
    }
   ],
   "source": [
    "print(train_label[:3])"
   ]
  },
  {
   "cell_type": "code",
   "execution_count": 13,
   "id": "a2e5dc29-90b8-478f-b28f-cbf60abd916c",
   "metadata": {},
   "outputs": [
    {
     "data": {
      "image/png": "[encoded data removed]",
      "text/plain": [
       "<Figure size 432x288 with 1 Axes>"
      ]
     },
     "metadata": {
      "needs_background": "light"
     },
     "output_type": "display_data"
    },
    {
     "data": {
      "image/png": "[encoded data removed]",
      "text/plain": [
       "<Figure size 432x288 with 1 Axes>"
      ]
     },
     "metadata": {
      "needs_background": "light"
     },
     "output_type": "display_data"
    },
    {
     "data": {
      "image/png": "[encoded data removed]",
      "text/plain": [
       "<Figure size 432x288 with 1 Axes>"
      ]
     },
     "metadata": {
      "needs_background": "light"
     },
     "output_type": "display_data"
    }
   ],
   "source": [
    "show_image(train_image[0])\n",
    "show_image(train_image[1])\n",
    "show_image(train_image[2])"
   ]
  },
  {
   "cell_type": "code",
   "execution_count": 14,
   "id": "96206e4b-bfc9-4125-8afb-c01c6b13a6d4",
   "metadata": {},
   "outputs": [],
   "source": [
    "from keras.utils import np_utils\n",
    "train_label_onehotencoding = np_utils.to_categorical(train_label)\n",
    "test_label_onehotencoding = np_utils.to_categorical(test_label)"
   ]
  },
  {
   "cell_type": "code",
   "execution_count": 15,
   "id": "910f159b-1873-4be7-bab0-af922dc290ba",
   "metadata": {},
   "outputs": [
    {
     "name": "stdout",
     "output_type": "stream",
     "text": [
      "(50000, 10)\n"
     ]
    }
   ],
   "source": [
    "print(train_label_onehotencoding.shape)"
   ]
  },
  {
   "cell_type": "code",
   "execution_count": 16,
   "id": "b866fcae-b9e6-42d1-8898-57ba4abb44ba",
   "metadata": {},
   "outputs": [
    {
     "name": "stdout",
     "output_type": "stream",
     "text": [
      "[[0. 0. 0. 0. 0. 0. 1. 0. 0. 0.]\n",
      " [0. 0. 0. 0. 0. 0. 0. 0. 0. 1.]\n",
      " [0. 0. 0. 0. 0. 0. 0. 0. 0. 1.]]\n"
     ]
    }
   ],
   "source": [
    "print(train_label_onehotencoding[0:3])"
   ]
  },
  {
   "cell_type": "code",
   "execution_count": 17,
   "id": "68c62df7-ee41-48d6-91c4-e7ca8d2627a4",
   "metadata": {},
   "outputs": [],
   "source": [
    "from keras.models import Sequential\n",
    "from keras.layers import Dense, Dropout, Conv2D, MaxPooling2D, Flatten"
   ]
  },
  {
   "cell_type": "code",
   "execution_count": 18,
   "id": "bb8070bf-bba8-4788-ba68-de5f3da23207",
   "metadata": {},
   "outputs": [
    {
     "name": "stderr",
     "output_type": "stream",
     "text": [
      "2022-05-05 09:27:03.781527: I tensorflow/stream_executor/platform/default/dso_loader.cc:53] Successfully opened dynamic library libcuda.so.1\n",
      "2022-05-05 09:27:03.819736: I tensorflow/core/common_runtime/gpu/gpu_device.cc:1733] Found device 0 with properties: \n",
      "pciBusID: 0000:23:00.0 name: NVIDIA RTX A5000 computeCapability: 8.6\n",
      "coreClock: 1.695GHz coreCount: 64 deviceMemorySize: 23.69GiB deviceMemoryBandwidth: 715.34GiB/s\n",
      "2022-05-05 09:27:03.819771: I tensorflow/stream_executor/platform/default/dso_loader.cc:53] Successfully opened dynamic library libcudart.so.11.0\n",
      "2022-05-05 09:27:03.822146: I tensorflow/stream_executor/platform/default/dso_loader.cc:53] Successfully opened dynamic library libcublas.so.11\n",
      "2022-05-05 09:27:03.822173: I tensorflow/stream_executor/platform/default/dso_loader.cc:53] Successfully opened dynamic library libcublasLt.so.11\n",
      "2022-05-05 09:27:03.822858: I tensorflow/stream_executor/platform/default/dso_loader.cc:53] Successfully opened dynamic library libcufft.so.10\n",
      "2022-05-05 09:27:03.823063: I tensorflow/stream_executor/platform/default/dso_loader.cc:53] Successfully opened dynamic library libcurand.so.10\n",
      "2022-05-05 09:27:03.823526: I tensorflow/stream_executor/platform/default/dso_loader.cc:53] Successfully opened dynamic library libcusolver.so.11\n",
      "2022-05-05 09:27:03.823922: I tensorflow/stream_executor/platform/default/dso_loader.cc:53] Successfully opened dynamic library libcusparse.so.11\n",
      "2022-05-05 09:27:03.824053: I tensorflow/stream_executor/platform/default/dso_loader.cc:53] Successfully opened dynamic library libcudnn.so.8\n",
      "2022-05-05 09:27:03.825814: I tensorflow/core/common_runtime/gpu/gpu_device.cc:1871] Adding visible gpu devices: 0\n",
      "2022-05-05 09:27:03.826260: I tensorflow/core/platform/cpu_feature_guard.cc:142] This TensorFlow binary is optimized with oneAPI Deep Neural Network Library (oneDNN) to use the following CPU instructions in performance-critical operations:  AVX2 FMA\n",
      "To enable them in other operations, rebuild TensorFlow with the appropriate compiler flags.\n",
      "2022-05-05 09:27:03.832670: I tensorflow/core/common_runtime/gpu/gpu_device.cc:1733] Found device 0 with properties: \n",
      "pciBusID: 0000:23:00.0 name: NVIDIA RTX A5000 computeCapability: 8.6\n",
      "coreClock: 1.695GHz coreCount: 64 deviceMemorySize: 23.69GiB deviceMemoryBandwidth: 715.34GiB/s\n",
      "2022-05-05 09:27:03.834463: I tensorflow/core/common_runtime/gpu/gpu_device.cc:1871] Adding visible gpu devices: 0\n",
      "2022-05-05 09:27:03.834522: I tensorflow/stream_executor/platform/default/dso_loader.cc:53] Successfully opened dynamic library libcudart.so.11.0\n",
      "2022-05-05 09:27:04.263009: I tensorflow/core/common_runtime/gpu/gpu_device.cc:1258] Device interconnect StreamExecutor with strength 1 edge matrix:\n",
      "2022-05-05 09:27:04.263035: I tensorflow/core/common_runtime/gpu/gpu_device.cc:1264]      0 \n",
      "2022-05-05 09:27:04.263040: I tensorflow/core/common_runtime/gpu/gpu_device.cc:1277] 0:   N \n",
      "2022-05-05 09:27:04.265590: I tensorflow/core/common_runtime/gpu/gpu_device.cc:1418] Created TensorFlow device (/job:localhost/replica:0/task:0/device:GPU:0 with 22358 MB memory) -> physical GPU (device: 0, name: NVIDIA RTX A5000, pci bus id: 0000:23:00.0, compute capability: 8.6)\n"
     ]
    }
   ],
   "source": [
    "model = Sequential()"
   ]
  },
  {
   "cell_type": "code",
   "execution_count": 19,
   "id": "3df90149-a054-4552-813d-e6a56ab89273",
   "metadata": {},
   "outputs": [],
   "source": [
    "model.add(Conv2D(filters=32, kernel_size=(3,3), padding='same', input_shape=(32,32,3), activation = 'relu'))"
   ]
  },
  {
   "cell_type": "code",
   "execution_count": 20,
   "id": "9f719c38-c7f4-4f97-9983-cb79329a7916",
   "metadata": {},
   "outputs": [],
   "source": [
    "model.add(MaxPooling2D(pool_size = (2,2)))"
   ]
  },
  {
   "cell_type": "code",
   "execution_count": 21,
   "id": "c4d9bf5e-f15f-42a6-b5d5-18c20616d968",
   "metadata": {},
   "outputs": [],
   "source": [
    "model.add(Conv2D(filters=64, kernel_size=(3,3), padding='same', activation = 'relu'))"
   ]
  },
  {
   "cell_type": "code",
   "execution_count": 22,
   "id": "6c8ed898-9e57-45df-bbed-050cf7cd6127",
   "metadata": {},
   "outputs": [],
   "source": [
    "model.add(MaxPooling2D(pool_size = (2,2)))"
   ]
  },
  {
   "cell_type": "code",
   "execution_count": 23,
   "id": "5b44057c-2fcf-491c-a11c-24b9bcc87041",
   "metadata": {},
   "outputs": [],
   "source": [
    "model.add(Dropout(0.25))"
   ]
  },
  {
   "cell_type": "code",
   "execution_count": 24,
   "id": "75ff180c-60fc-4357-adcd-2fa15c4df29c",
   "metadata": {},
   "outputs": [],
   "source": [
    "model.add(Flatten())"
   ]
  },
  {
   "cell_type": "code",
   "execution_count": 25,
   "id": "491d3e47-4f9e-438d-8ed0-28c615388031",
   "metadata": {},
   "outputs": [],
   "source": [
    "model.add(Dense(1024, kernel_initializer = 'normal', activation = 'relu'))"
   ]
  },
  {
   "cell_type": "code",
   "execution_count": 26,
   "id": "1dc56e8d-8fdf-40ad-825c-4bba3c201200",
   "metadata": {},
   "outputs": [],
   "source": [
    "model.add(Dropout(0.5))"
   ]
  },
  {
   "cell_type": "code",
   "execution_count": 27,
   "id": "96bda798-8a9a-4d8a-952f-ecdafc64d3bb",
   "metadata": {},
   "outputs": [],
   "source": [
    "model.add(Dense(units = 10, kernel_initializer = 'normal', activation = 'softmax'))"
   ]
  },
  {
   "cell_type": "code",
   "execution_count": 28,
   "id": "4c9070b7-1c62-47e2-90c5-ff4db61cf821",
   "metadata": {},
   "outputs": [
    {
     "name": "stdout",
     "output_type": "stream",
     "text": [
      "Model: \"sequential\"\n",
      "_________________________________________________________________\n",
      "Layer (type)                 Output Shape              Param #   \n",
      "=================================================================\n",
      "conv2d (Conv2D)              (None, 32, 32, 32)        896       \n",
      "_________________________________________________________________\n",
      "max_pooling2d (MaxPooling2D) (None, 16, 16, 32)        0         \n",
      "_________________________________________________________________\n",
      "conv2d_1 (Conv2D)            (None, 16, 16, 64)        18496     \n",
      "_________________________________________________________________\n",
      "max_pooling2d_1 (MaxPooling2 (None, 8, 8, 64)          0         \n",
      "_________________________________________________________________\n",
      "dropout (Dropout)            (None, 8, 8, 64)          0         \n",
      "_________________________________________________________________\n",
      "flatten (Flatten)            (None, 4096)              0         \n",
      "_________________________________________________________________\n",
      "dense (Dense)                (None, 1024)              4195328   \n",
      "_________________________________________________________________\n",
      "dropout_1 (Dropout)          (None, 1024)              0         \n",
      "_________________________________________________________________\n",
      "dense_1 (Dense)              (None, 10)                10250     \n",
      "=================================================================\n",
      "Total params: 4,224,970\n",
      "Trainable params: 4,224,970\n",
      "Non-trainable params: 0\n",
      "_________________________________________________________________\n",
      "None\n"
     ]
    }
   ],
   "source": [
    "print(model.summary())"
   ]
  },
  {
   "cell_type": "code",
   "execution_count": 29,
   "id": "66a79094-d68f-4625-bb99-1cd27591a95a",
   "metadata": {},
   "outputs": [],
   "source": [
    "model.compile(loss='categorical_crossentropy', optimizer='adam', metrics=['accuracy'])"
   ]
  },
  {
   "cell_type": "code",
   "execution_count": 30,
   "id": "df32264c-31bf-4692-9639-477041d9ca6d",
   "metadata": {},
   "outputs": [
    {
     "name": "stderr",
     "output_type": "stream",
     "text": [
      "2022-05-05 09:27:05.435809: I tensorflow/compiler/mlir/mlir_graph_optimization_pass.cc:176] None of the MLIR Optimization Passes are enabled (registered 2)\n",
      "2022-05-05 09:27:05.438172: I tensorflow/core/platform/profile_utils/cpu_utils.cc:114] CPU Frequency: 2794895000 Hz\n"
     ]
    },
    {
     "name": "stdout",
     "output_type": "stream",
     "text": [
      "Epoch 1/10\n"
     ]
    },
    {
     "name": "stderr",
     "output_type": "stream",
     "text": [
      "2022-05-05 09:27:19.408732: I tensorflow/stream_executor/platform/default/dso_loader.cc:53] Successfully opened dynamic library libcudnn.so.8\n",
      "2022-05-05 09:27:20.013577: I tensorflow/stream_executor/cuda/cuda_dnn.cc:359] Loaded cuDNN version 8101\n",
      "2022-05-05 09:27:20.722154: I tensorflow/stream_executor/platform/default/dso_loader.cc:53] Successfully opened dynamic library libcublas.so.11\n",
      "2022-05-05 09:27:21.221672: I tensorflow/stream_executor/platform/default/dso_loader.cc:53] Successfully opened dynamic library libcublasLt.so.11\n",
      "2022-05-05 09:27:21.237748: I tensorflow/stream_executor/cuda/cuda_blas.cc:1838] TensorFloat-32 will be used for the matrix multiplication. This will only be logged once.\n"
     ]
    },
    {
     "name": "stdout",
     "output_type": "stream",
     "text": [
      "200/200 - 17s - loss: 1.6254 - accuracy: 0.4135 - val_loss: 1.2787 - val_accuracy: 0.5601\n",
      "Epoch 2/10\n",
      "200/200 - 1s - loss: 1.2113 - accuracy: 0.5674 - val_loss: 1.1132 - val_accuracy: 0.6106\n",
      "Epoch 3/10\n",
      "200/200 - 1s - loss: 1.0527 - accuracy: 0.6255 - val_loss: 0.9779 - val_accuracy: 0.6566\n",
      "Epoch 4/10\n",
      "200/200 - 1s - loss: 0.9408 - accuracy: 0.6704 - val_loss: 0.9146 - val_accuracy: 0.6778\n",
      "Epoch 5/10\n",
      "200/200 - 1s - loss: 0.8610 - accuracy: 0.6989 - val_loss: 0.8826 - val_accuracy: 0.6881\n",
      "Epoch 6/10\n",
      "200/200 - 1s - loss: 0.7807 - accuracy: 0.7266 - val_loss: 0.8163 - val_accuracy: 0.7178\n",
      "Epoch 7/10\n",
      "200/200 - 1s - loss: 0.7141 - accuracy: 0.7498 - val_loss: 0.8048 - val_accuracy: 0.7175\n",
      "Epoch 8/10\n",
      "200/200 - 1s - loss: 0.6569 - accuracy: 0.7711 - val_loss: 0.7822 - val_accuracy: 0.7342\n",
      "Epoch 9/10\n",
      "200/200 - 1s - loss: 0.5950 - accuracy: 0.7939 - val_loss: 0.7657 - val_accuracy: 0.7414\n",
      "Epoch 10/10\n",
      "200/200 - 1s - loss: 0.5419 - accuracy: 0.8112 - val_loss: 0.7497 - val_accuracy: 0.7486\n"
     ]
    }
   ],
   "source": [
    "train_history = model.fit(train_image_normalize, train_label_onehotencoding, validation_split=0.2, epochs=10, batch_size=200, verbose=2)"
   ]
  },
  {
   "cell_type": "code",
   "execution_count": 32,
   "id": "fe333778-fdae-467d-98b4-fcd5d61aefcc",
   "metadata": {},
   "outputs": [
    {
     "name": "stdout",
     "output_type": "stream",
     "text": [
      "313/313 [==============================] - 1s 3ms/step - loss: 0.7666 - accuracy: 0.7349\n",
      "[0.7665884494781494, 0.7348999977111816]\n"
     ]
    }
   ],
   "source": [
    "scores = model.evaluate(test_image_normalize, test_label_onehotencoding)\n",
    "print(scores)"
   ]
  },
  {
   "cell_type": "code",
   "execution_count": 33,
   "id": "a7825a6d-2d01-48be-9cc1-51c9909b6a8c",
   "metadata": {},
   "outputs": [],
   "source": [
    "from keras.models import load_model"
   ]
  },
  {
   "cell_type": "code",
   "execution_count": 34,
   "id": "f50ca2e2-24b8-4fc9-b5c9-beeec3a4285d",
   "metadata": {},
   "outputs": [],
   "source": [
    "model.save('CIFAR10_CNN.h5')"
   ]
  },
  {
   "cell_type": "code",
   "execution_count": null,
   "id": "ffb9bd00-a64b-400a-bb6b-b28984b7f811",
   "metadata": {},
   "outputs": [],
   "source": []
  }
 ],
 "metadata": {
  "kernelspec": {
   "display_name": "Python 3 (ipykernel)",
   "language": "python",
   "name": "python3"
  },
  "language_info": {
   "codemirror_mode": {
    "name": "ipython",
    "version": 3
   },
   "file_extension": ".py",
   "mimetype": "text/x-python",
   "name": "python",
   "nbconvert_exporter": "python",
   "pygments_lexer": "ipython3",
   "version": "3.8.10"
  }
 },
 "nbformat": 4,
 "nbformat_minor": 5
}
