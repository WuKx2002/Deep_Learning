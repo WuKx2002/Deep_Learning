{
 "cells": [
  {
   "cell_type": "markdown",
   "id": "ec013dee-7100-44a4-856f-a61cab260a1c",
   "metadata": {},
   "source": [
    "**制作数据集**"
   ]
  },
  {
   "cell_type": "code",
   "execution_count": 1,
   "id": "a4097e77-69ff-49f9-a2b2-7944b491d895",
   "metadata": {},
   "outputs": [],
   "source": [
    "import pandas as pd\n",
    "import numpy as np\n",
    "from sklearn import preprocessing"
   ]
  },
  {
   "cell_type": "code",
   "execution_count": 2,
   "id": "2e04bb2f-399b-4f32-af88-af246be07c97",
   "metadata": {},
   "outputs": [],
   "source": [
    "all_df = pd.read_excel('titanic3.xls')"
   ]
  },
  {
   "cell_type": "code",
   "execution_count": 3,
   "id": "94f05a5a-a356-4fcd-8fab-288c5a4b7c40",
   "metadata": {},
   "outputs": [],
   "source": [
    "cols = ['survived', 'name', 'pclass', 'sex', 'age', 'sibsp', 'parch', 'fare']\n",
    "all_df = all_df[cols]"
   ]
  },
  {
   "cell_type": "code",
   "execution_count": 4,
   "id": "cc1aa56b-8632-47ad-9658-251d6e02ae8c",
   "metadata": {},
   "outputs": [],
   "source": [
    "msk = np.random.random(len(all_df)) < 0.8\n",
    "train_df = all_df[msk]\n",
    "test_df = all_df[msk]"
   ]
  },
  {
   "cell_type": "code",
   "execution_count": 5,
   "id": "bfd59277-0e49-4a22-b733-ecd2697fbb3e",
   "metadata": {},
   "outputs": [],
   "source": [
    "def PreprocessData(raw_df):\n",
    "    df = raw_df.drop(['name'], axis = 1)\n",
    "    \n",
    "    age_mean = df['age'].mean()\n",
    "    df['age'] = df['age'].fillna(age_mean)\n",
    "    \n",
    "    fare_mean = df['fare'].mean()\n",
    "    df['fare'] = df['fare'].fillna(fare_mean)\n",
    "    \n",
    "    df['sex'] = df['sex'].map({'famale':0, 'male':1})\n",
    "    \n",
    "    ndarray = df.values\n",
    "    \n",
    "    Label = ndarray[:, 0]\n",
    "    Features = ndarray[:, 1:]\n",
    "    \n",
    "    minmax_scale = preprocessing.MinMaxScaler((0,1))\n",
    "    scaledFeatures = minmax_scale.fit_transform(Features)\n",
    "    \n",
    "    return scaledFeatures, Label"
   ]
  },
  {
   "cell_type": "code",
   "execution_count": 6,
   "id": "bf81b95a-6194-45f7-a5be-3c7e4d427291",
   "metadata": {},
   "outputs": [],
   "source": [
    "train_Feature, train_Label = PreprocessData(train_df)\n",
    "test_Feature, test_Label = PreprocessData(test_df)"
   ]
  },
  {
   "cell_type": "markdown",
   "id": "07574c14-6e61-4057-9316-c466352eb2ba",
   "metadata": {},
   "source": [
    "**建立多层感知器模型**"
   ]
  },
  {
   "cell_type": "code",
   "execution_count": 7,
   "id": "e90e8fcf-6536-4972-8ff3-6d6952e578f6",
   "metadata": {},
   "outputs": [
    {
     "name": "stderr",
     "output_type": "stream",
     "text": [
      "2022-05-05 22:45:25.418602: I tensorflow/stream_executor/platform/default/dso_loader.cc:53] Successfully opened dynamic library libcudart.so.11.0\n"
     ]
    }
   ],
   "source": [
    "from keras.models import Sequential\n",
    "from keras.layers import Dense, Dropout"
   ]
  },
  {
   "cell_type": "code",
   "execution_count": 8,
   "id": "57c36c4d-82d2-4e76-8d9e-2187ae13f971",
   "metadata": {},
   "outputs": [
    {
     "name": "stderr",
     "output_type": "stream",
     "text": [
      "2022-05-05 22:45:26.452175: I tensorflow/stream_executor/platform/default/dso_loader.cc:53] Successfully opened dynamic library libcuda.so.1\n",
      "2022-05-05 22:45:26.471521: I tensorflow/core/common_runtime/gpu/gpu_device.cc:1733] Found device 0 with properties: \n",
      "pciBusID: 0000:a1:00.0 name: NVIDIA RTX A5000 computeCapability: 8.6\n",
      "coreClock: 1.695GHz coreCount: 64 deviceMemorySize: 23.69GiB deviceMemoryBandwidth: 715.34GiB/s\n",
      "2022-05-05 22:45:26.471549: I tensorflow/stream_executor/platform/default/dso_loader.cc:53] Successfully opened dynamic library libcudart.so.11.0\n",
      "2022-05-05 22:45:26.474373: I tensorflow/stream_executor/platform/default/dso_loader.cc:53] Successfully opened dynamic library libcublas.so.11\n",
      "2022-05-05 22:45:26.474409: I tensorflow/stream_executor/platform/default/dso_loader.cc:53] Successfully opened dynamic library libcublasLt.so.11\n",
      "2022-05-05 22:45:26.475259: I tensorflow/stream_executor/platform/default/dso_loader.cc:53] Successfully opened dynamic library libcufft.so.10\n",
      "2022-05-05 22:45:26.475492: I tensorflow/stream_executor/platform/default/dso_loader.cc:53] Successfully opened dynamic library libcurand.so.10\n",
      "2022-05-05 22:45:26.476240: I tensorflow/stream_executor/platform/default/dso_loader.cc:53] Successfully opened dynamic library libcusolver.so.11\n",
      "2022-05-05 22:45:26.476803: I tensorflow/stream_executor/platform/default/dso_loader.cc:53] Successfully opened dynamic library libcusparse.so.11\n",
      "2022-05-05 22:45:26.476945: I tensorflow/stream_executor/platform/default/dso_loader.cc:53] Successfully opened dynamic library libcudnn.so.8\n",
      "2022-05-05 22:45:26.478645: I tensorflow/core/common_runtime/gpu/gpu_device.cc:1871] Adding visible gpu devices: 0\n",
      "2022-05-05 22:45:26.478969: I tensorflow/core/platform/cpu_feature_guard.cc:142] This TensorFlow binary is optimized with oneAPI Deep Neural Network Library (oneDNN) to use the following CPU instructions in performance-critical operations:  AVX2 FMA\n",
      "To enable them in other operations, rebuild TensorFlow with the appropriate compiler flags.\n",
      "2022-05-05 22:45:26.485684: I tensorflow/core/common_runtime/gpu/gpu_device.cc:1733] Found device 0 with properties: \n",
      "pciBusID: 0000:a1:00.0 name: NVIDIA RTX A5000 computeCapability: 8.6\n",
      "coreClock: 1.695GHz coreCount: 64 deviceMemorySize: 23.69GiB deviceMemoryBandwidth: 715.34GiB/s\n",
      "2022-05-05 22:45:26.487505: I tensorflow/core/common_runtime/gpu/gpu_device.cc:1871] Adding visible gpu devices: 0\n",
      "2022-05-05 22:45:26.487544: I tensorflow/stream_executor/platform/default/dso_loader.cc:53] Successfully opened dynamic library libcudart.so.11.0\n",
      "2022-05-05 22:45:26.955533: I tensorflow/core/common_runtime/gpu/gpu_device.cc:1258] Device interconnect StreamExecutor with strength 1 edge matrix:\n",
      "2022-05-05 22:45:26.955561: I tensorflow/core/common_runtime/gpu/gpu_device.cc:1264]      0 \n",
      "2022-05-05 22:45:26.955566: I tensorflow/core/common_runtime/gpu/gpu_device.cc:1277] 0:   N \n",
      "2022-05-05 22:45:26.958108: I tensorflow/core/common_runtime/gpu/gpu_device.cc:1418] Created TensorFlow device (/job:localhost/replica:0/task:0/device:GPU:0 with 21095 MB memory) -> physical GPU (device: 0, name: NVIDIA RTX A5000, pci bus id: 0000:a1:00.0, compute capability: 8.6)\n"
     ]
    }
   ],
   "source": [
    "model = Sequential()"
   ]
  },
  {
   "cell_type": "code",
   "execution_count": 9,
   "id": "938543ba-bc3c-45c2-8931-5238531e3b35",
   "metadata": {},
   "outputs": [],
   "source": [
    "model.add(Dense(units = 200, input_dim = 6, kernel_initializer = 'uniform', activation = 'relu'))"
   ]
  },
  {
   "cell_type": "code",
   "execution_count": 10,
   "id": "bcc08f45-8df8-40a5-ad64-cbd5e9808f63",
   "metadata": {},
   "outputs": [],
   "source": [
    "model.add(Dense(units = 200, kernel_initializer = 'uniform', activation = 'relu'))"
   ]
  },
  {
   "cell_type": "code",
   "execution_count": 11,
   "id": "5f9fd275-3022-4be1-9142-308efa6a9a7c",
   "metadata": {},
   "outputs": [],
   "source": [
    "model.add(Dense(units = 1,kernel_initializer = 'uniform', activation = 'sigmoid'))"
   ]
  },
  {
   "cell_type": "code",
   "execution_count": 12,
   "id": "6bc908ad-3514-4395-8361-26c07a95745e",
   "metadata": {},
   "outputs": [],
   "source": [
    "model.compile(loss = 'binary_crossentropy', optimizer = 'adam', metrics = ['accuracy'])"
   ]
  },
  {
   "cell_type": "code",
   "execution_count": 13,
   "id": "233a3f87-ba83-4803-99bc-b4e0ce90abeb",
   "metadata": {},
   "outputs": [
    {
     "name": "stderr",
     "output_type": "stream",
     "text": [
      "2022-05-05 22:45:27.449462: I tensorflow/compiler/mlir/mlir_graph_optimization_pass.cc:176] None of the MLIR Optimization Passes are enabled (registered 2)\n",
      "2022-05-05 22:45:27.451848: I tensorflow/core/platform/profile_utils/cpu_utils.cc:114] CPU Frequency: 2794895000 Hz\n"
     ]
    },
    {
     "name": "stdout",
     "output_type": "stream",
     "text": [
      "Epoch 1/50\n"
     ]
    },
    {
     "name": "stderr",
     "output_type": "stream",
     "text": [
      "2022-05-05 22:45:40.335356: I tensorflow/stream_executor/platform/default/dso_loader.cc:53] Successfully opened dynamic library libcublas.so.11\n",
      "2022-05-05 22:45:40.926015: I tensorflow/stream_executor/platform/default/dso_loader.cc:53] Successfully opened dynamic library libcublasLt.so.11\n",
      "2022-05-05 22:45:40.926091: I tensorflow/stream_executor/cuda/cuda_blas.cc:1838] TensorFloat-32 will be used for the matrix multiplication. This will only be logged once.\n"
     ]
    },
    {
     "name": "stdout",
     "output_type": "stream",
     "text": [
      "83/83 - 14s - loss: nan - accuracy: 0.5681 - val_loss: nan - val_accuracy: 0.8107\n",
      "Epoch 2/50\n",
      "83/83 - 0s - loss: nan - accuracy: 0.5681 - val_loss: nan - val_accuracy: 0.8107\n",
      "Epoch 3/50\n",
      "83/83 - 0s - loss: nan - accuracy: 0.5681 - val_loss: nan - val_accuracy: 0.8107\n",
      "Epoch 4/50\n",
      "83/83 - 0s - loss: nan - accuracy: 0.5681 - val_loss: nan - val_accuracy: 0.8107\n",
      "Epoch 5/50\n",
      "83/83 - 0s - loss: nan - accuracy: 0.5681 - val_loss: nan - val_accuracy: 0.8107\n",
      "Epoch 6/50\n",
      "83/83 - 0s - loss: nan - accuracy: 0.5681 - val_loss: nan - val_accuracy: 0.8107\n",
      "Epoch 7/50\n",
      "83/83 - 0s - loss: nan - accuracy: 0.5681 - val_loss: nan - val_accuracy: 0.8107\n",
      "Epoch 8/50\n",
      "83/83 - 0s - loss: nan - accuracy: 0.5681 - val_loss: nan - val_accuracy: 0.8107\n",
      "Epoch 9/50\n",
      "83/83 - 0s - loss: nan - accuracy: 0.5681 - val_loss: nan - val_accuracy: 0.8107\n",
      "Epoch 10/50\n",
      "83/83 - 0s - loss: nan - accuracy: 0.5681 - val_loss: nan - val_accuracy: 0.8107\n",
      "Epoch 11/50\n",
      "83/83 - 0s - loss: nan - accuracy: 0.5681 - val_loss: nan - val_accuracy: 0.8107\n",
      "Epoch 12/50\n",
      "83/83 - 0s - loss: nan - accuracy: 0.5681 - val_loss: nan - val_accuracy: 0.8107\n",
      "Epoch 13/50\n",
      "83/83 - 0s - loss: nan - accuracy: 0.5681 - val_loss: nan - val_accuracy: 0.8107\n",
      "Epoch 14/50\n",
      "83/83 - 0s - loss: nan - accuracy: 0.5681 - val_loss: nan - val_accuracy: 0.8107\n",
      "Epoch 15/50\n",
      "83/83 - 0s - loss: nan - accuracy: 0.5681 - val_loss: nan - val_accuracy: 0.8107\n",
      "Epoch 16/50\n",
      "83/83 - 0s - loss: nan - accuracy: 0.5681 - val_loss: nan - val_accuracy: 0.8107\n",
      "Epoch 17/50\n",
      "83/83 - 0s - loss: nan - accuracy: 0.5681 - val_loss: nan - val_accuracy: 0.8107\n",
      "Epoch 18/50\n",
      "83/83 - 0s - loss: nan - accuracy: 0.5681 - val_loss: nan - val_accuracy: 0.8107\n",
      "Epoch 19/50\n",
      "83/83 - 0s - loss: nan - accuracy: 0.5681 - val_loss: nan - val_accuracy: 0.8107\n",
      "Epoch 20/50\n",
      "83/83 - 0s - loss: nan - accuracy: 0.5681 - val_loss: nan - val_accuracy: 0.8107\n",
      "Epoch 21/50\n",
      "83/83 - 0s - loss: nan - accuracy: 0.5681 - val_loss: nan - val_accuracy: 0.8107\n",
      "Epoch 22/50\n",
      "83/83 - 0s - loss: nan - accuracy: 0.5681 - val_loss: nan - val_accuracy: 0.8107\n",
      "Epoch 23/50\n",
      "83/83 - 0s - loss: nan - accuracy: 0.5681 - val_loss: nan - val_accuracy: 0.8107\n",
      "Epoch 24/50\n",
      "83/83 - 0s - loss: nan - accuracy: 0.5681 - val_loss: nan - val_accuracy: 0.8107\n",
      "Epoch 25/50\n",
      "83/83 - 0s - loss: nan - accuracy: 0.5681 - val_loss: nan - val_accuracy: 0.8107\n",
      "Epoch 26/50\n",
      "83/83 - 0s - loss: nan - accuracy: 0.5681 - val_loss: nan - val_accuracy: 0.8107\n",
      "Epoch 27/50\n",
      "83/83 - 0s - loss: nan - accuracy: 0.5681 - val_loss: nan - val_accuracy: 0.8107\n",
      "Epoch 28/50\n",
      "83/83 - 0s - loss: nan - accuracy: 0.5681 - val_loss: nan - val_accuracy: 0.8107\n",
      "Epoch 29/50\n",
      "83/83 - 0s - loss: nan - accuracy: 0.5681 - val_loss: nan - val_accuracy: 0.8107\n",
      "Epoch 30/50\n",
      "83/83 - 0s - loss: nan - accuracy: 0.5681 - val_loss: nan - val_accuracy: 0.8107\n",
      "Epoch 31/50\n",
      "83/83 - 0s - loss: nan - accuracy: 0.5681 - val_loss: nan - val_accuracy: 0.8107\n",
      "Epoch 32/50\n",
      "83/83 - 0s - loss: nan - accuracy: 0.5681 - val_loss: nan - val_accuracy: 0.8107\n",
      "Epoch 33/50\n",
      "83/83 - 0s - loss: nan - accuracy: 0.5681 - val_loss: nan - val_accuracy: 0.8107\n",
      "Epoch 34/50\n",
      "83/83 - 0s - loss: nan - accuracy: 0.5681 - val_loss: nan - val_accuracy: 0.8107\n",
      "Epoch 35/50\n",
      "83/83 - 0s - loss: nan - accuracy: 0.5681 - val_loss: nan - val_accuracy: 0.8107\n",
      "Epoch 36/50\n",
      "83/83 - 0s - loss: nan - accuracy: 0.5681 - val_loss: nan - val_accuracy: 0.8107\n",
      "Epoch 37/50\n",
      "83/83 - 0s - loss: nan - accuracy: 0.5681 - val_loss: nan - val_accuracy: 0.8107\n",
      "Epoch 38/50\n",
      "83/83 - 0s - loss: nan - accuracy: 0.5681 - val_loss: nan - val_accuracy: 0.8107\n",
      "Epoch 39/50\n",
      "83/83 - 0s - loss: nan - accuracy: 0.5681 - val_loss: nan - val_accuracy: 0.8107\n",
      "Epoch 40/50\n",
      "83/83 - 0s - loss: nan - accuracy: 0.5681 - val_loss: nan - val_accuracy: 0.8107\n",
      "Epoch 41/50\n",
      "83/83 - 0s - loss: nan - accuracy: 0.5681 - val_loss: nan - val_accuracy: 0.8107\n",
      "Epoch 42/50\n",
      "83/83 - 0s - loss: nan - accuracy: 0.5681 - val_loss: nan - val_accuracy: 0.8107\n",
      "Epoch 43/50\n",
      "83/83 - 0s - loss: nan - accuracy: 0.5681 - val_loss: nan - val_accuracy: 0.8107\n",
      "Epoch 44/50\n",
      "83/83 - 0s - loss: nan - accuracy: 0.5681 - val_loss: nan - val_accuracy: 0.8107\n",
      "Epoch 45/50\n",
      "83/83 - 0s - loss: nan - accuracy: 0.5681 - val_loss: nan - val_accuracy: 0.8107\n",
      "Epoch 46/50\n",
      "83/83 - 0s - loss: nan - accuracy: 0.5681 - val_loss: nan - val_accuracy: 0.8107\n",
      "Epoch 47/50\n",
      "83/83 - 0s - loss: nan - accuracy: 0.5681 - val_loss: nan - val_accuracy: 0.8107\n",
      "Epoch 48/50\n",
      "83/83 - 0s - loss: nan - accuracy: 0.5681 - val_loss: nan - val_accuracy: 0.8107\n",
      "Epoch 49/50\n",
      "83/83 - 0s - loss: nan - accuracy: 0.5681 - val_loss: nan - val_accuracy: 0.8107\n",
      "Epoch 50/50\n",
      "83/83 - 0s - loss: nan - accuracy: 0.5681 - val_loss: nan - val_accuracy: 0.8107\n"
     ]
    }
   ],
   "source": [
    "train_history = model.fit(train_Feature, train_Label, validation_split = 0.2, epochs = 50, batch_size = 10,verbose = 2)"
   ]
  },
  {
   "cell_type": "code",
   "execution_count": 14,
   "id": "163c73ff-e083-4d7f-92dd-2dfe4a6ba17b",
   "metadata": {},
   "outputs": [],
   "source": [
    "#'survived', 'name', 'pclass', 'sex', 'age', 'sibsp', 'parch', 'fare'\n",
    "#Jack:[0, 'Jack', 3, 'male', 23, 1, 0, 5.00]\n",
    "#Rose:[1, 'Rose', 1, 'female', 20, 1, 1, 100])\n",
    "Jack = pd.Series([0, 'Jack', 3, 'male', 23, 1, 0, 5.00])\n",
    "Rose = pd.Series([1, 'Rose', 1, 'female', 20, 1, 1, 100])"
   ]
  },
  {
   "cell_type": "code",
   "execution_count": 15,
   "id": "0de66d47-0189-420e-8626-ff02afcf69a8",
   "metadata": {},
   "outputs": [],
   "source": [
    "#创建Jack和Rose的DataFrame格式的数据\n",
    "JR_df = pd.DataFrame([list(Jack), list(Rose)], columns=['survived', 'name', 'pclass', 'sex', 'age', 'sibsp', 'parch', 'fare'])"
   ]
  },
  {
   "cell_type": "code",
   "execution_count": 16,
   "id": "6d3f37e0-9cae-460e-8285-a181bceac988",
   "metadata": {},
   "outputs": [],
   "source": [
    "#将JR_df添加到数据集all_df的末尾\n",
    "all_df = pd.concat([all_df, JR_df])"
   ]
  },
  {
   "cell_type": "code",
   "execution_count": 17,
   "id": "d42a90d5-a8c3-48c8-8bd6-834c934a0e05",
   "metadata": {},
   "outputs": [
    {
     "data": {
      "text/html": [
       "<div>\n",
       "<style scoped>\n",
       "    .dataframe tbody tr th:only-of-type {\n",
       "        vertical-align: middle;\n",
       "    }\n",
       "\n",
       "    .dataframe tbody tr th {\n",
       "        vertical-align: top;\n",
       "    }\n",
       "\n",
       "    .dataframe thead th {\n",
       "        text-align: right;\n",
       "    }\n",
       "</style>\n",
       "<table border=\"1\" class=\"dataframe\">\n",
       "  <thead>\n",
       "    <tr style=\"text-align: right;\">\n",
       "      <th></th>\n",
       "      <th>survived</th>\n",
       "      <th>name</th>\n",
       "      <th>pclass</th>\n",
       "      <th>sex</th>\n",
       "      <th>age</th>\n",
       "      <th>sibsp</th>\n",
       "      <th>parch</th>\n",
       "      <th>fare</th>\n",
       "    </tr>\n",
       "  </thead>\n",
       "  <tbody>\n",
       "    <tr>\n",
       "      <th>0</th>\n",
       "      <td>0</td>\n",
       "      <td>Jack</td>\n",
       "      <td>3</td>\n",
       "      <td>male</td>\n",
       "      <td>23.0</td>\n",
       "      <td>1</td>\n",
       "      <td>0</td>\n",
       "      <td>5.0</td>\n",
       "    </tr>\n",
       "    <tr>\n",
       "      <th>1</th>\n",
       "      <td>1</td>\n",
       "      <td>Rose</td>\n",
       "      <td>1</td>\n",
       "      <td>female</td>\n",
       "      <td>20.0</td>\n",
       "      <td>1</td>\n",
       "      <td>1</td>\n",
       "      <td>100.0</td>\n",
       "    </tr>\n",
       "  </tbody>\n",
       "</table>\n",
       "</div>"
      ],
      "text/plain": [
       "   survived  name  pclass     sex   age  sibsp  parch   fare\n",
       "0         0  Jack       3    male  23.0      1      0    5.0\n",
       "1         1  Rose       1  female  20.0      1      1  100.0"
      ]
     },
     "execution_count": 17,
     "metadata": {},
     "output_type": "execute_result"
    }
   ],
   "source": [
    "#查看all_df最后两项，分别放置的是Jack和Rose的信息\n",
    "all_df[-2:]"
   ]
  },
  {
   "cell_type": "code",
   "execution_count": 18,
   "id": "c915daf2-0cc6-4bf7-a0b6-d90ae1a5840f",
   "metadata": {},
   "outputs": [],
   "source": [
    "all_Features, Label = PreprocessData(all_df)"
   ]
  },
  {
   "cell_type": "code",
   "execution_count": 19,
   "id": "dd7d4a9c-4802-4d20-bc4e-9b14ba17ca1d",
   "metadata": {},
   "outputs": [],
   "source": [
    "all_probability = model.predict(all_Features)"
   ]
  },
  {
   "cell_type": "code",
   "execution_count": 20,
   "id": "01883637-47e5-45c2-b00e-7e75d5231334",
   "metadata": {},
   "outputs": [
    {
     "data": {
      "text/plain": [
       "array([[nan],\n",
       "       [nan]], dtype=float32)"
      ]
     },
     "execution_count": 20,
     "metadata": {},
     "output_type": "execute_result"
    }
   ],
   "source": [
    "all_probability[-5:]\n",
    "all_probability[:5]\n",
    "all_probability[-2:]"
   ]
  },
  {
   "cell_type": "code",
   "execution_count": 21,
   "id": "5b797ff5-c650-4a72-85ee-4d8db2fbb5bb",
   "metadata": {},
   "outputs": [],
   "source": [
    "all_df.insert(len(all_df.columns), 'probability', all_probability)"
   ]
  },
  {
   "cell_type": "code",
   "execution_count": 22,
   "id": "644e11e6-800c-4932-a5c0-8af76bc29133",
   "metadata": {},
   "outputs": [
    {
     "data": {
      "text/html": [
       "<div>\n",
       "<style scoped>\n",
       "    .dataframe tbody tr th:only-of-type {\n",
       "        vertical-align: middle;\n",
       "    }\n",
       "\n",
       "    .dataframe tbody tr th {\n",
       "        vertical-align: top;\n",
       "    }\n",
       "\n",
       "    .dataframe thead th {\n",
       "        text-align: right;\n",
       "    }\n",
       "</style>\n",
       "<table border=\"1\" class=\"dataframe\">\n",
       "  <thead>\n",
       "    <tr style=\"text-align: right;\">\n",
       "      <th></th>\n",
       "      <th>survived</th>\n",
       "      <th>name</th>\n",
       "      <th>pclass</th>\n",
       "      <th>sex</th>\n",
       "      <th>age</th>\n",
       "      <th>sibsp</th>\n",
       "      <th>parch</th>\n",
       "      <th>fare</th>\n",
       "      <th>probability</th>\n",
       "    </tr>\n",
       "  </thead>\n",
       "  <tbody>\n",
       "    <tr>\n",
       "      <th>0</th>\n",
       "      <td>0</td>\n",
       "      <td>Jack</td>\n",
       "      <td>3</td>\n",
       "      <td>male</td>\n",
       "      <td>23.0</td>\n",
       "      <td>1</td>\n",
       "      <td>0</td>\n",
       "      <td>5.0</td>\n",
       "      <td>NaN</td>\n",
       "    </tr>\n",
       "    <tr>\n",
       "      <th>1</th>\n",
       "      <td>1</td>\n",
       "      <td>Rose</td>\n",
       "      <td>1</td>\n",
       "      <td>female</td>\n",
       "      <td>20.0</td>\n",
       "      <td>1</td>\n",
       "      <td>1</td>\n",
       "      <td>100.0</td>\n",
       "      <td>NaN</td>\n",
       "    </tr>\n",
       "  </tbody>\n",
       "</table>\n",
       "</div>"
      ],
      "text/plain": [
       "   survived  name  pclass     sex   age  sibsp  parch   fare  probability\n",
       "0         0  Jack       3    male  23.0      1      0    5.0          NaN\n",
       "1         1  Rose       1  female  20.0      1      1  100.0          NaN"
      ]
     },
     "execution_count": 22,
     "metadata": {},
     "output_type": "execute_result"
    }
   ],
   "source": [
    "all_df[-2:]"
   ]
  },
  {
   "cell_type": "code",
   "execution_count": 23,
   "id": "4a7e1cbf-7113-4bec-89d4-6451ec2e15fc",
   "metadata": {},
   "outputs": [
    {
     "data": {
      "text/html": [
       "<div>\n",
       "<style scoped>\n",
       "    .dataframe tbody tr th:only-of-type {\n",
       "        vertical-align: middle;\n",
       "    }\n",
       "\n",
       "    .dataframe tbody tr th {\n",
       "        vertical-align: top;\n",
       "    }\n",
       "\n",
       "    .dataframe thead th {\n",
       "        text-align: right;\n",
       "    }\n",
       "</style>\n",
       "<table border=\"1\" class=\"dataframe\">\n",
       "  <thead>\n",
       "    <tr style=\"text-align: right;\">\n",
       "      <th></th>\n",
       "      <th>survived</th>\n",
       "      <th>name</th>\n",
       "      <th>pclass</th>\n",
       "      <th>sex</th>\n",
       "      <th>age</th>\n",
       "      <th>sibsp</th>\n",
       "      <th>parch</th>\n",
       "      <th>fare</th>\n",
       "      <th>probability</th>\n",
       "    </tr>\n",
       "  </thead>\n",
       "  <tbody>\n",
       "  </tbody>\n",
       "</table>\n",
       "</div>"
      ],
      "text/plain": [
       "Empty DataFrame\n",
       "Columns: [survived, name, pclass, sex, age, sibsp, parch, fare, probability]\n",
       "Index: []"
      ]
     },
     "execution_count": 23,
     "metadata": {},
     "output_type": "execute_result"
    }
   ],
   "source": [
    "#查看下哪些乘客的生还率很高，但是最终却遇难的，考虑设置生还率>90%，但是遇难的乘客\n",
    "all_df[(all_df['survived'] == 0) & (all_df['probability'] > 0.9)]"
   ]
  },
  {
   "cell_type": "code",
   "execution_count": null,
   "id": "b0dd4844-7a11-49d3-bd4d-a3da986d07e4",
   "metadata": {},
   "outputs": [],
   "source": []
  }
 ],
 "metadata": {
  "kernelspec": {
   "display_name": "Python 3 (ipykernel)",
   "language": "python",
   "name": "python3"
  },
  "language_info": {
   "codemirror_mode": {
    "name": "ipython",
    "version": 3
   },
   "file_extension": ".py",
   "mimetype": "text/x-python",
   "name": "python",
   "nbconvert_exporter": "python",
   "pygments_lexer": "ipython3",
   "version": "3.8.10"
  }
 },
 "nbformat": 4,
 "nbformat_minor": 5
}
