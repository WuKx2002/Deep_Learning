{
 "cells": [
  {
   "cell_type": "code",
   "execution_count": 1,
   "id": "7feb2ac1-e1e5-4e4e-b7fe-6a19440578ff",
   "metadata": {},
   "outputs": [],
   "source": [
    "import pandas as pd\n",
    "import numpy as np"
   ]
  },
  {
   "cell_type": "code",
   "execution_count": 2,
   "id": "bd7df6df-cf8d-4493-a667-cfa4fffef0a7",
   "metadata": {
    "tags": []
   },
   "outputs": [],
   "source": [
    "#read_excel() 读取tinanic3.xls数据集，并存储到dataframe\n",
    "all_df = pd.read_excel('titanic3.xls')"
   ]
  },
  {
   "cell_type": "code",
   "execution_count": 3,
   "id": "35a1546b-6e73-4b42-8e0c-1903acbaa888",
   "metadata": {},
   "outputs": [
    {
     "name": "stdout",
     "output_type": "stream",
     "text": [
      "   pclass  survived                            name     sex      age  sibsp  \\\n",
      "0       1         1   Allen, Miss. Elisabeth Walton  female  29.0000      0   \n",
      "1       1         1  Allison, Master. Hudson Trevor    male   0.9167      1   \n",
      "\n",
      "   parch  ticket      fare    cabin embarked boat  body  \\\n",
      "0      0   24160  211.3375       B5        S    2   NaN   \n",
      "1      2  113781  151.5500  C22 C26        S   11   NaN   \n",
      "\n",
      "                         home.dest  \n",
      "0                     St Louis, MO  \n",
      "1  Montreal, PQ / Chesterville, ON  \n"
     ]
    }
   ],
   "source": [
    "print(all_df[:2])"
   ]
  },
  {
   "cell_type": "code",
   "execution_count": 4,
   "id": "9ad8aea7-54f5-42e2-b9d0-fab4c91e4e6d",
   "metadata": {},
   "outputs": [],
   "source": [
    "#提取表格中有用的列\n",
    "cols = ['survived', 'name', 'pclass', 'sex', 'age', 'sibsp', 'parch', 'fare', 'embarked']\n",
    "all_df = all_df[cols]"
   ]
  },
  {
   "cell_type": "code",
   "execution_count": 5,
   "id": "20e69d48-8c5f-425c-bed7-932c5e414f19",
   "metadata": {},
   "outputs": [
    {
     "name": "stdout",
     "output_type": "stream",
     "text": [
      "   survived                            name  pclass     sex      age  sibsp  \\\n",
      "0         1   Allen, Miss. Elisabeth Walton       1  female  29.0000      0   \n",
      "1         1  Allison, Master. Hudson Trevor       1    male   0.9167      1   \n",
      "\n",
      "   parch      fare embarked  \n",
      "0      0  211.3375        S  \n",
      "1      2  151.5500        S  \n"
     ]
    }
   ],
   "source": [
    "print(all_df[:2])"
   ]
  },
  {
   "cell_type": "code",
   "execution_count": 6,
   "id": "a2b7e02f-14fd-4aaa-876a-ccabf38ea6c9",
   "metadata": {},
   "outputs": [],
   "source": [
    "#去除与生还率无关的name列，预测时用不到\n",
    "df = all_df.drop(['name'], axis = 1)"
   ]
  },
  {
   "cell_type": "code",
   "execution_count": 7,
   "id": "c0fe5010-b2cf-47e0-a57a-9811cc46b1e0",
   "metadata": {},
   "outputs": [
    {
     "data": {
      "text/plain": [
       "survived      0\n",
       "pclass        0\n",
       "sex           0\n",
       "age         263\n",
       "sibsp         0\n",
       "parch         0\n",
       "fare          1\n",
       "embarked      2\n",
       "dtype: int64"
      ]
     },
     "execution_count": 7,
     "metadata": {},
     "output_type": "execute_result"
    }
   ],
   "source": [
    "#对数据集进行处理，将字段为空的数据重新处理，用平均值替代\n",
    "#查看当前数据集的空字段，找出并统计个数\n",
    "df.isnull().sum()"
   ]
  },
  {
   "cell_type": "code",
   "execution_count": 8,
   "id": "9fa73267-34bb-44a3-b07b-de3c07d18f86",
   "metadata": {},
   "outputs": [],
   "source": [
    "#将空字段内容用平均值填充\n",
    "age_mean = df['age'].mean()\n",
    "df['age'] = df['age'].fillna(age_mean)\n",
    "\n",
    "fare_mean = df['fare'].mean()\n",
    "df['fare'] = df['fare'].fillna(fare_mean)"
   ]
  },
  {
   "cell_type": "code",
   "execution_count": 9,
   "id": "243532dc-7498-4e82-98bb-4ae10f9a7ec9",
   "metadata": {},
   "outputs": [],
   "source": [
    "#female：0，male:1\n",
    "#pandas中的map()方法可以利用字典的方法将key替换为value\n",
    "df['sex'] = df['sex'].map({'famale':0, 'male':1})"
   ]
  },
  {
   "cell_type": "code",
   "execution_count": 10,
   "id": "59060b23-173f-41af-bf8f-e467b7f28f78",
   "metadata": {},
   "outputs": [],
   "source": [
    "#pandas中也提到了一个一位有效编码的转换工具get_dumies()\n",
    "OneHot_df = pd.get_dummies(data = df, columns = ['embarked'])"
   ]
  },
  {
   "cell_type": "code",
   "execution_count": 11,
   "id": "2dc3ea51-9f6c-4af8-8d79-ee265e009940",
   "metadata": {},
   "outputs": [
    {
     "name": "stdout",
     "output_type": "stream",
     "text": [
      "   survived  pclass  sex      age  sibsp  parch      fare  embarked_C  \\\n",
      "0         1       1  NaN  29.0000      0      0  211.3375           0   \n",
      "1         1       1  1.0   0.9167      1      2  151.5500           0   \n",
      "\n",
      "   embarked_Q  embarked_S  \n",
      "0           0           1  \n",
      "1           0           1  \n"
     ]
    }
   ],
   "source": [
    "print(OneHot_df[:2])"
   ]
  },
  {
   "cell_type": "code",
   "execution_count": 12,
   "id": "a5b094dc-9ad4-4f15-90da-ccec5dbe6062",
   "metadata": {},
   "outputs": [],
   "source": [
    "#将dataframe转换为array数组\n",
    "ndarray = OneHot_df.values"
   ]
  },
  {
   "cell_type": "code",
   "execution_count": 13,
   "id": "8cdd792a-3f4f-4fd8-a1e1-666609729d30",
   "metadata": {},
   "outputs": [
    {
     "name": "stdout",
     "output_type": "stream",
     "text": [
      "(1309, 10)\n",
      "[[  1.       1.          nan  29.       0.       0.     211.3375   0.\n",
      "    0.       1.    ]\n",
      " [  1.       1.       1.       0.9167   1.       2.     151.55     0.\n",
      "    0.       1.    ]]\n"
     ]
    }
   ],
   "source": [
    "print(ndarray.shape)\n",
    "print(ndarray[:2])"
   ]
  },
  {
   "cell_type": "code",
   "execution_count": 14,
   "id": "b8a47267-dda4-4805-b01d-81b0c9c3e909",
   "metadata": {},
   "outputs": [],
   "source": [
    "#当前ndarrayl同时包含数据特征和标签，所以需要将特征和标签进行分割\n",
    "Label = ndarray[:, 0]\n",
    "Features = ndarray[:, 1:]"
   ]
  },
  {
   "cell_type": "code",
   "execution_count": 15,
   "id": "a538f1d6-b4b2-4622-9554-20dfbe660720",
   "metadata": {},
   "outputs": [
    {
     "name": "stdout",
     "output_type": "stream",
     "text": [
      "[1. 1.]\n",
      "[[  1.          nan  29.       0.       0.     211.3375   0.       0.\n",
      "    1.    ]\n",
      " [  1.       1.       0.9167   1.       2.     151.55     0.       0.\n",
      "    1.    ]]\n"
     ]
    }
   ],
   "source": [
    "print(Label[:2])\n",
    "print(Features[:2])"
   ]
  },
  {
   "cell_type": "code",
   "execution_count": 16,
   "id": "7a17ce64-f371-427f-b061-72e49f7daefc",
   "metadata": {},
   "outputs": [],
   "source": [
    "#将数据集中的内容进行归一化处理，因为成员之间的量纲单位不同相差很大\n",
    "#将所有数据去除量纲，落在0到1之间\n",
    "from sklearn import preprocessing\n",
    "minmax_scale = preprocessing.MinMaxScaler((0,1))\n",
    "scaledFeatures = minmax_scale.fit_transform(Features)"
   ]
  },
  {
   "cell_type": "code",
   "execution_count": 17,
   "id": "dd4bef70-8b98-4585-95b0-713d6e8ef979",
   "metadata": {},
   "outputs": [
    {
     "name": "stdout",
     "output_type": "stream",
     "text": [
      "[[0.                nan 0.36116884 0.         0.         0.41250333\n",
      "  0.         0.         1.        ]\n",
      " [0.         0.         0.00939458 0.125      0.22222222 0.2958059\n",
      "  0.         0.         1.        ]]\n"
     ]
    }
   ],
   "source": [
    "print(scaledFeatures[0:2])"
   ]
  },
  {
   "cell_type": "code",
   "execution_count": 18,
   "id": "ab4dc439-c1ce-4317-85dc-3a3ee3dc00fc",
   "metadata": {},
   "outputs": [
    {
     "name": "stdout",
     "output_type": "stream",
     "text": [
      "[ True  True False ...  True  True  True]\n",
      "total =  1309 train =  1052 test =  1052\n"
     ]
    }
   ],
   "source": [
    "#将数据集分为训练数据80%和测试数据20%\n",
    "msk = np.random.random(len(all_df)) < 0.8\n",
    "print(msk)\n",
    "train_df = all_df[msk]\n",
    "test_df = all_df[msk]\n",
    "print('total = ', len(all_df),'train = ', len(train_df),'test = ', len(test_df))"
   ]
  },
  {
   "cell_type": "code",
   "execution_count": null,
   "id": "d3915111-f5b7-446f-9f33-0f06ee6628dc",
   "metadata": {},
   "outputs": [],
   "source": []
  }
 ],
 "metadata": {
  "kernelspec": {
   "display_name": "Python 3 (ipykernel)",
   "language": "python",
   "name": "python3"
  },
  "language_info": {
   "codemirror_mode": {
    "name": "ipython",
    "version": 3
   },
   "file_extension": ".py",
   "mimetype": "text/x-python",
   "name": "python",
   "nbconvert_exporter": "python",
   "pygments_lexer": "ipython3",
   "version": "3.8.10"
  }
 },
 "nbformat": 4,
 "nbformat_minor": 5
}
